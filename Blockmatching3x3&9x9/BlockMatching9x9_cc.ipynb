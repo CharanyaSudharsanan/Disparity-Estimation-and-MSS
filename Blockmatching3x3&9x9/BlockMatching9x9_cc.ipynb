{
 "cells": [
  {
   "cell_type": "code",
   "execution_count": 11,
   "metadata": {},
   "outputs": [
    {
     "name": "stdout",
     "output_type": "stream",
     "text": [
      "(378, 471) (378, 471) (378, 471) (378, 471)\n",
      "(378, 471) (378, 471)\n"
     ]
    }
   ],
   "source": [
    "import cv2\n",
    "import numpy as np\n",
    "import sys\n",
    "#9x9 Left,Right and consistency check\n",
    "\n",
    "view1 = cv2.imread('C:/Documents-Summer2018/CVIP/PA2/view1.png',0)\n",
    "view5 = cv2.imread('C:/Documents-Summer2018/CVIP/PA2/view5.png',0)\n",
    "\n",
    "disp1 = cv2.imread('C:/Documents-Summer2018/CVIP/PA2/disp1.png',0)\n",
    "disp5 = cv2.imread('C:/Documents-Summer2018/CVIP/PA2/disp5.png',0)\n",
    "\n",
    "view1 = np.pad(view1,[(4,4),(4,4)], mode=\"constant\")\n",
    "view5 = np.pad(view5,[(4,4),(4,4)], mode=\"constant\")\n",
    "disp1 = np.pad(disp1,[(4,4),(4,4)], mode=\"constant\")\n",
    "disp5 = np.pad(disp5,[(4,4),(4,4)], mode=\"constant\")\n",
    "\n",
    "\n",
    "row = int(view1.shape[0])\n",
    "col = int(view1.shape[1])\n",
    "\n",
    "disp_1 = np.zeros((row,col));\n",
    "disp_5 = np.zeros((row,col));\n",
    "\n",
    "print(view1.shape,view5.shape,disp1.shape,disp5.shape)\n",
    "print(disp_1.shape,disp_5.shape)\n",
    "\n",
    "\n",
    "\n",
    "\n",
    "\n",
    "\n"
   ]
  },
  {
   "cell_type": "code",
   "execution_count": 15,
   "metadata": {},
   "outputs": [],
   "source": [
    "#left image disp map\n",
    "for x in range(4,row-4):     \n",
    "    for y in range(4,col-4):\n",
    "        block1 = np.zeros((9,9))\n",
    "        block1 = view1[x-4:x+5,y-4:y+5] #block for view1\n",
    "        min_dist = sys.maxsize    #max integer value\n",
    "        match_y = -1\n",
    "        for z in range(y-150,y):\n",
    "            if(z < 5):\n",
    "                z = 5\n",
    "            block2 = view5[x-4:x+5,z-4:z+5] #block for view 5\n",
    "            result = np.sum((block1 - block2) ** 2)                \n",
    "            if(result < min_dist):\n",
    "                min_dist = result\n",
    "                match_y = z               \n",
    "                \n",
    "        disp_1[x][y] = np.absolute(y - match_y)"
   ]
  },
  {
   "cell_type": "code",
   "execution_count": 16,
   "metadata": {},
   "outputs": [
    {
     "name": "stdout",
     "output_type": "stream",
     "text": [
      "MSE Left 9x9: 564.241521472944\n",
      "disp_1_9x9 [[0. 0. 0. ... 0. 0. 0.]\n",
      " [0. 0. 0. ... 0. 0. 0.]\n",
      " [0. 0. 0. ... 0. 0. 0.]\n",
      " ...\n",
      " [0. 0. 0. ... 0. 0. 0.]\n",
      " [0. 0. 0. ... 0. 0. 0.]\n",
      " [0. 0. 0. ... 0. 0. 0.]]\n",
      "view1_9x9 [[0 0 0 ... 0 0 0]\n",
      " [0 0 0 ... 0 0 0]\n",
      " [0 0 0 ... 0 0 0]\n",
      " ...\n",
      " [0 0 0 ... 0 0 0]\n",
      " [0 0 0 ... 0 0 0]\n",
      " [0 0 0 ... 0 0 0]]\n"
     ]
    }
   ],
   "source": [
    "MSE_left = np.mean(np.square(disp1 - disp_1))\n",
    "print(\"MSE Left 9x9:\",MSE_left)\n",
    "\n",
    "\n",
    "cv2.imshow('disp1_left_disparity_9x9', disp_1/disp_1.max())\n",
    "cv2.waitKey(0)\n",
    "cv2.destroyAllWindows()\n",
    "cv2.imwrite('C:\\Documents-Summer2018\\CVIP\\PA2\\OPTnew\\disp1_left_disparity_9x9.jpg',disp_1)\n",
    "\n",
    "print('disp_1_9x9',disp_1)\n",
    "print('view1_9x9',view1)"
   ]
  },
  {
   "cell_type": "code",
   "execution_count": 19,
   "metadata": {},
   "outputs": [
    {
     "name": "stdout",
     "output_type": "stream",
     "text": [
      "MSE Right 9x9: 230.02163583055304\n",
      "disp_5_9x9 [[0. 0. 0. ... 0. 0. 0.]\n",
      " [0. 0. 0. ... 0. 0. 0.]\n",
      " [0. 0. 0. ... 0. 0. 0.]\n",
      " ...\n",
      " [0. 0. 0. ... 0. 0. 0.]\n",
      " [0. 0. 0. ... 0. 0. 0.]\n",
      " [0. 0. 0. ... 0. 0. 0.]]\n",
      "view5_9x9 [[0 0 0 ... 0 0 0]\n",
      " [0 0 0 ... 0 0 0]\n",
      " [0 0 0 ... 0 0 0]\n",
      " ...\n",
      " [0 0 0 ... 0 0 0]\n",
      " [0 0 0 ... 0 0 0]\n",
      " [0 0 0 ... 0 0 0]]\n"
     ]
    }
   ],
   "source": [
    "#9x9 Right disparity map\n",
    "for x in range(4,row-4):     \n",
    "    for y in range(4,col-4):\n",
    "        \n",
    "        block1 = np.zeros((9,9))\n",
    "        block2 = np.zeros((9,9))\n",
    "        \n",
    "        block1 = view5[x-4:x+5,y-4:y+5] #block for view3\n",
    "        min_dist = sys.maxsize    #max integer value\n",
    "        for z in range(y,y+100):\n",
    "            if z > col-5:\n",
    "                z = col-5\n",
    "            \n",
    "            block2 = view1[x-4:x+5,z-4:z+5]\n",
    "            result = np.sum((block1 - block2) ** 2)                \n",
    "            if(result < min_dist):\n",
    "                min_dist = result\n",
    "                match_y = z               \n",
    "                \n",
    "        disp_5[x][y] = np.absolute(y - match_y) \n",
    "\n",
    "\n",
    "        \n",
    "MSE_right = np.square(np.subtract(disp5, disp_5)).mean()#https://stackoverflow.com/questions/16774849/mean-squared-error-in-numpy\n",
    "print(\"MSE Right 9x9:\",MSE_right)\n",
    "\n",
    "\n",
    "cv2.imshow('disp5_right_9x9', disp_5/255)\n",
    "cv2.waitKey(0)\n",
    "cv2.destroyAllWindows()\n",
    "cv2.imwrite('C:\\Documents-Summer2018\\CVIP\\PA2\\OPTnew\\disp5_right_disparity_map_9x9.jpg',disp_1)\n",
    "\n",
    "\n",
    "print('disp_5_9x9',disp_5)\n",
    "print('view5_9x9',view5)\n",
    "\n",
    "\n"
   ]
  },
  {
   "cell_type": "code",
   "execution_count": 20,
   "metadata": {},
   "outputs": [
    {
     "name": "stdout",
     "output_type": "stream",
     "text": [
      "MSE consistency left 9x9: 950.4205956031858\n"
     ]
    }
   ],
   "source": [
    "#consistency check\n",
    "\n",
    "consistencyL = np.zeros((row,col))\n",
    "\n",
    "#fill up consistency left by backprop\n",
    "\n",
    "for x in range(4,row-4):\n",
    "    for y in range(4,col-4):\n",
    "        dispval_left = disp_1[x][y]\n",
    "        if(y-dispval_left > 0):\n",
    "            dispval_right = disp_5[x][int(abs(y-dispval_left))]\n",
    "        else:\n",
    "            dispval_right = disp_5[x][y]\n",
    "        if(dispval_left == dispval_right):\n",
    "            consistencyL[x][y] = dispval_left\n",
    "        else:                \n",
    "            consistencyL[x][y] = 0\n",
    "\n",
    "\n",
    "cv2.imshow('Consistency Left 9x9', consistencyL/255)\n",
    "cv2.waitKey(0)\n",
    "cv2.destroyAllWindows()\n",
    "cv2.imwrite('C:\\Documents-Summer2018\\CVIP\\PA2\\OPTnew\\Consistency_Left_9x9.jpg',consistencyL)\n",
    "            \n",
    "mse_cL = np.mean(np.square(disp1 - consistencyL))#https://stackoverflow.com/questions/16774849/mean-squared-error-in-numpy\n",
    "print(\"MSE consistency left 9x9:\",mse_cL)       \n",
    "\n"
   ]
  },
  {
   "cell_type": "code",
   "execution_count": 21,
   "metadata": {},
   "outputs": [
    {
     "name": "stdout",
     "output_type": "stream",
     "text": [
      "MSE consistency Right 9x9: 828.9149675911884\n"
     ]
    }
   ],
   "source": [
    "consistencyR = np.zeros((row,col))\n",
    "\n",
    "for x in range(1,row-1):\n",
    "    for y in range(1,col-1):\n",
    "        dispval_right = disp_5[x][y]\n",
    "        if(y+dispval_right < col-1):\n",
    "            dispval_left = disp_1[x][int(abs(y+dispval_right))]\n",
    "        else:\n",
    "            dispval_left=disp_1[x][y]\n",
    "        if(dispval_right == dispval_left):\n",
    "            consistencyR[x][y] = dispval_right\n",
    "        else:\n",
    "            consistencyR[x][y] = 0\n",
    "\n",
    "\n",
    "cv2.imshow('Consistency Right', consistencyR/255)\n",
    "cv2.waitKey(0)\n",
    "cv2.destroyAllWindows()\n",
    "cv2.imwrite('C:\\Documents-Summer2018\\CVIP\\PA2\\OPTnew\\Consistency_Right_9x9.jpg',consistencyR)\n",
    "\n",
    "\n",
    "mse_cR = np.mean(np.square(disp5 - consistencyR))#https://stackoverflow.com/questions/16774849/mean-squared-error-in-numpy\n",
    "print(\"MSE consistency Right 9x9:\",mse_cR)"
   ]
  },
  {
   "cell_type": "code",
   "execution_count": null,
   "metadata": {},
   "outputs": [],
   "source": []
  }
 ],
 "metadata": {
  "kernelspec": {
   "display_name": "Python 3",
   "language": "python",
   "name": "python3"
  },
  "language_info": {
   "codemirror_mode": {
    "name": "ipython",
    "version": 3
   },
   "file_extension": ".py",
   "mimetype": "text/x-python",
   "name": "python",
   "nbconvert_exporter": "python",
   "pygments_lexer": "ipython3",
   "version": "3.6.6"
  }
 },
 "nbformat": 4,
 "nbformat_minor": 2
}
