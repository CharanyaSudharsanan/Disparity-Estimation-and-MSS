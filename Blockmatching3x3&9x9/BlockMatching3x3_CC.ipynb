{
 "cells": [
  {
   "cell_type": "code",
   "execution_count": 18,
   "metadata": {},
   "outputs": [],
   "source": [
    "import numpy as np\n",
    "import cv2\n",
    "import sys\n"
   ]
  },
  {
   "cell_type": "code",
   "execution_count": 19,
   "metadata": {},
   "outputs": [],
   "source": [
    "view1 = cv2.imread('C:/Documents-Summer2018/CVIP/PA2/view1.png',0)\n",
    "view5 = cv2.imread('C:/Documents-Summer2018/CVIP/PA2/view5.png',0)\n",
    "\n",
    "disp1 = cv2.imread('C:/Documents-Summer2018/CVIP/PA2/disp1.png',0)\n",
    "disp5 = cv2.imread('C:/Documents-Summer2018/CVIP/PA2/disp5.png',0)\n",
    "\n",
    "# view1 = np.pad(view1,[(1,1),(1,1)], mode=\"constant\")\n",
    "# view5 = np.pad(view5,[(1,1),(1,1)], mode=\"constant\")\n",
    "# disp1 = np.pad(disp1,[(1,1),(1,1)], mode=\"constant\")\n",
    "# disp5 = np.pad(disp5,[(1,1),(1,1)], mode=\"constant\")\n",
    "\n",
    "\n",
    "row = int(view1.shape[0])\n",
    "col = int(view1.shape[1])\n",
    "\n",
    "disp_1 = np.zeros((row,col));\n",
    "disp_5 = np.zeros((row,col));\n",
    "\n",
    "#print(view1.shape,view5.shape,disp1.shape,disp5.shape)\n",
    "#print(disp_1.shape,disp_5.shape)\n",
    "\n",
    "#print(view1)\n",
    "#print(view5)\n",
    "#print(disp1)"
   ]
  },
  {
   "cell_type": "code",
   "execution_count": 4,
   "metadata": {},
   "outputs": [],
   "source": [
    "# for x in range(1,371):     \n",
    "#     for y in range(1,464):\n",
    "#         block1 = view1[x-1:x+2,y-1:y+2] #block for view1\n",
    "#         min_dist = sys.maxsize    #max integer value \n",
    "#         for z in range(y,464):\n",
    "#             block2 = view5[x-1:x+2,z-1:z+2]\n",
    "#             result = np.sum((np.subtract(block1,block2)) ** 2)                \n",
    "#             if(result < min_dist):\n",
    "#                 min_dist = result\n",
    "#                 match_y = block2                \n",
    "#         disp_1[x-1:x+2,y-1:y+2] = match_y - block1  \n",
    "\n"
   ]
  },
  {
   "cell_type": "code",
   "execution_count": 20,
   "metadata": {},
   "outputs": [],
   "source": [
    "for x in range(1,row-1):     \n",
    "    for y in range(1,col-1):\n",
    "        block1 = view1[x-1:x+2,y-1:y+2] #block for view1\n",
    "        min_dist = sys.maxsize    #max integer value \n",
    "        for z in range(y-100,y):#threshold : 100px\n",
    "            if(z < 1):\n",
    "                z = 1\n",
    "            k = z\n",
    "            block2 = view5[x-1:x+2,k-1:k+2]\n",
    "            result = np.sum((np.subtract(block1,block2)) ** 2)\n",
    "            \n",
    "            if(result < min_dist):\n",
    "                min_dist = result\n",
    "                match_y = k \n",
    "                \n",
    "        disp_1[x,y] = np.absolute(y - match_y) \n",
    "        "
   ]
  },
  {
   "cell_type": "code",
   "execution_count": 21,
   "metadata": {},
   "outputs": [
    {
     "name": "stdout",
     "output_type": "stream",
     "text": [
      "[[ 0.  0.  0. ...  0.  0.  0.]\n",
      " [ 0.  0.  1. ... 30. 32.  0.]\n",
      " [ 0.  0.  1. ... 30. 32.  0.]\n",
      " ...\n",
      " [ 0.  0.  1. ... 82. 72.  0.]\n",
      " [ 0.  0.  1. ... 82. 82.  0.]\n",
      " [ 0.  0.  0. ...  0.  0.  0.]]\n",
      "MSE Left: 511.4610413869593\n",
      "disp_1 [[ 0.  0.  0. ...  0.  0.  0.]\n",
      " [ 0.  0.  1. ... 30. 32.  0.]\n",
      " [ 0.  0.  1. ... 30. 32.  0.]\n",
      " ...\n",
      " [ 0.  0.  1. ... 82. 72.  0.]\n",
      " [ 0.  0.  1. ... 82. 82.  0.]\n",
      " [ 0.  0.  0. ...  0.  0.  0.]]\n"
     ]
    }
   ],
   "source": [
    "print(disp_1)\n",
    "\n",
    "MSE_left = np.mean(np.square(disp1 - disp_1))#https://stackoverflow.com/questions/16774849/mean-squared-error-in-numpy\n",
    "print(\"MSE Left:\",MSE_left)\n",
    "\n",
    "\n",
    "cv2.imshow('disp1_norm', disp_1/255)\n",
    "cv2.waitKey(0)\n",
    "cv2.destroyAllWindows()\n",
    "cv2.imwrite('C:/Documents-Summer2018/CVIP/PA2/OPTnew/disparity_left_3x3.jpg',disp_1)\n",
    "\n",
    "print('disp_1',disp_1)\n"
   ]
  },
  {
   "cell_type": "code",
   "execution_count": 22,
   "metadata": {},
   "outputs": [],
   "source": [
    "\n",
    "#3x3 Right disparity map\n",
    "for x in range(1,row-1):     \n",
    "    for y in range(1,col-1):\n",
    "        block1 = view5[x-1:x+2,y-1:y+2] #block for view1\n",
    "        min_dist = sys.maxsize    #max integer value \n",
    "        for z in range(y,y+100):#threshold : 100px\n",
    "            if z < col-1:\n",
    "                block2 = view1[x-1:x+2,z-1:z+2]\n",
    "                result = np.sum((np.subtract(block1,block2)) ** 2)  \n",
    "            if z > col-1:\n",
    "                z = col-1\n",
    "                \n",
    "            if(result < min_dist):\n",
    "                min_dist = result\n",
    "                match_y = z \n",
    "                \n",
    "                \n",
    "        disp_5[x,y] = np.absolute(y - match_y) \n",
    "\n"
   ]
  },
  {
   "cell_type": "code",
   "execution_count": 23,
   "metadata": {},
   "outputs": [
    {
     "name": "stdout",
     "output_type": "stream",
     "text": [
      "MSE Right: 407.7884887046874\n",
      "disp_5 [[ 0.  0.  0. ...  0.  0.  0.]\n",
      " [ 0. 28. 27. ...  0.  0.  0.]\n",
      " [ 0. 25. 24. ...  0.  0.  0.]\n",
      " ...\n",
      " [ 0. 79. 79. ...  0.  0.  0.]\n",
      " [ 0. 79. 79. ...  0.  0.  0.]\n",
      " [ 0.  0.  0. ...  0.  0.  0.]]\n",
      "view5 [[ 56  56  55 ...  90  91  91]\n",
      " [ 59  58  57 ...  90  91  91]\n",
      " [ 55  54  56 ...  90  90  89]\n",
      " ...\n",
      " [146 144 144 ... 107 105 103]\n",
      " [150 145 145 ... 107 106 103]\n",
      " [152 150 149 ... 105 105 103]]\n"
     ]
    }
   ],
   "source": [
    "MSE_right = np.mean(np.square(disp5 - disp_5))#https://stackoverflow.com/questions/16774849/mean-squared-error-in-numpy\n",
    "print(\"MSE Right:\",MSE_right)\n",
    "\n",
    "\n",
    "cv2.imshow('disp5_norm', disp_5/255)\n",
    "cv2.waitKey(0)\n",
    "cv2.destroyAllWindows()\n",
    "cv2.imwrite('C:/Documents-Summer2018/CVIP/PA2/OPTnew/disparity_right_3x3.jpg',disp_5)\n",
    "\n",
    "\n",
    "print('disp_5',disp_5)\n",
    "print('view5',view5)\n"
   ]
  },
  {
   "cell_type": "code",
   "execution_count": 25,
   "metadata": {},
   "outputs": [
    {
     "data": {
      "text/plain": [
       "True"
      ]
     },
     "execution_count": 25,
     "metadata": {},
     "output_type": "execute_result"
    }
   ],
   "source": [
    "#consistency check\n",
    "\n",
    "consistencyL = np.zeros((row,col))\n",
    "\n",
    "#fill up consistency left by backprop\n",
    "\n",
    "for x in range(1,row-1):\n",
    "    for y in range(1,col-1):\n",
    "        dispval_left = disp_1[x][y]\n",
    "        if(y-dispval_left > 0):\n",
    "            dispval_right = disp_5[x][int(abs(y-dispval_left))]\n",
    "        else:\n",
    "            dispval_right = disp_5[x][y]\n",
    "        if(dispval_left == dispval_right):\n",
    "            consistencyL[x][y] = dispval_left\n",
    "        else:\n",
    "            consistencyL[x][y] = 0\n",
    "\n",
    "\n",
    "cv2.imshow('Consistency Left', consistencyL/255)\n",
    "cv2.waitKey(0)\n",
    "cv2.destroyAllWindows()\n",
    "cv2.imwrite('C:/Documents-Summer2018/CVIP/PA2/OPTnew/Consistency_Left.jpg',consistencyL)\n",
    "            \n",
    "        "
   ]
  },
  {
   "cell_type": "code",
   "execution_count": 29,
   "metadata": {},
   "outputs": [
    {
     "name": "stdout",
     "output_type": "stream",
     "text": [
      "MSE consistency left: 1302.631755297414\n"
     ]
    }
   ],
   "source": [
    "mse_cL = np.mean(np.square(disp1 - consistencyL))#https://stackoverflow.com/questions/16774849/mean-squared-error-in-numpy\n",
    "print(\"MSE consistency left:\",mse_cL)"
   ]
  },
  {
   "cell_type": "code",
   "execution_count": 32,
   "metadata": {},
   "outputs": [
    {
     "data": {
      "text/plain": [
       "True"
      ]
     },
     "execution_count": 32,
     "metadata": {},
     "output_type": "execute_result"
    }
   ],
   "source": [
    "consistencyR = np.zeros((row,col))\n",
    "\n",
    "for x in range(1,row-1):\n",
    "    for y in range(1,col-1):\n",
    "        dispval_right = disp_5[x][y]\n",
    "        if(y+dispval_right < col-1):\n",
    "            dispval_left = disp_1[x][int(y+dispval_right)]\n",
    "        else:\n",
    "            dispval_left=disp_1[x][y]\n",
    "        if(dispval_right == dispval_left):\n",
    "            consistencyR[x][y] = dispval_right\n",
    "        else:\n",
    "            consistencyR[x][y] = 0\n",
    "\n",
    "\n",
    "cv2.imshow('Consistency Right', consistencyR/255)\n",
    "cv2.waitKey(0)\n",
    "cv2.destroyAllWindows()\n",
    "cv2.imwrite('C:/Documents-Summer2018/CVIP/PA2/OPTnew/Consistency_Right.jpg',consistencyR)\n",
    "\n",
    "\n",
    "            \n",
    "        "
   ]
  },
  {
   "cell_type": "code",
   "execution_count": 33,
   "metadata": {},
   "outputs": [
    {
     "name": "stdout",
     "output_type": "stream",
     "text": [
      "MSE consistency Right: 1173.9941451170394\n"
     ]
    }
   ],
   "source": [
    "mse_cR = np.mean(np.square(disp5 - consistencyR))#https://stackoverflow.com/questions/16774849/mean-squared-error-in-numpy\n",
    "print(\"MSE consistency Right:\",mse_cR)"
   ]
  },
  {
   "cell_type": "code",
   "execution_count": null,
   "metadata": {},
   "outputs": [],
   "source": []
  }
 ],
 "metadata": {
  "kernelspec": {
   "display_name": "Python 3",
   "language": "python",
   "name": "python3"
  },
  "language_info": {
   "codemirror_mode": {
    "name": "ipython",
    "version": 3
   },
   "file_extension": ".py",
   "mimetype": "text/x-python",
   "name": "python",
   "nbconvert_exporter": "python",
   "pygments_lexer": "ipython3",
   "version": "3.6.6"
  }
 },
 "nbformat": 4,
 "nbformat_minor": 2
}
